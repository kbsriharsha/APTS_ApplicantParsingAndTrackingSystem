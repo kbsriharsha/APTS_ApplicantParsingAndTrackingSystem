{
 "cells": [
  {
   "cell_type": "code",
   "execution_count": 27,
   "metadata": {},
   "outputs": [],
   "source": [
    "# Importing libraries\n",
    "import sys\n",
    "import os\n",
    "import re\n",
    "import pyap\n",
    "import pandas as pd\n",
    "from pdfminer.pdfinterp import PDFResourceManager, PDFPageInterpreter\n",
    "from pdfminer.converter import TextConverter\n",
    "from pdfminer.layout import LAParams\n",
    "from pdfminer.pdfpage import PDFPage\n",
    "from io import StringIO\n",
    "import nltk"
   ]
  },
  {
   "cell_type": "code",
   "execution_count": 2,
   "metadata": {},
   "outputs": [],
   "source": [
    "def convertPDFToText(path):\n",
    "    \"\"\"\n",
    "    This function converts pdf to text\n",
    "\n",
    "    path: path of the file to be converted\n",
    "    \"\"\"\n",
    "    fp = open(path, 'rb')\n",
    "    rsrcmgr = PDFResourceManager()\n",
    "    retstr = StringIO()\n",
    "    codec = 'ascii'\n",
    "    laparams = LAParams()\n",
    "    device = TextConverter(rsrcmgr, retstr, laparams=laparams)\n",
    "    # Create a PDF interpreter object.\n",
    "    interpreter = PDFPageInterpreter(rsrcmgr, device)\n",
    "    # Process each page contained in the document.\n",
    "\n",
    "    for page in PDFPage.get_pages(fp):\n",
    "        interpreter.process_page(page)\n",
    "        data =  retstr.getvalue()\n",
    "\n",
    "    return data"
   ]
  },
  {
   "cell_type": "code",
   "execution_count": 73,
   "metadata": {},
   "outputs": [],
   "source": [
    "a = convertPDFToText(\"resume_trail1.pdf\")"
   ]
  },
  {
   "cell_type": "code",
   "execution_count": 74,
   "metadata": {},
   "outputs": [],
   "source": [
    "import string"
   ]
  },
  {
   "cell_type": "code",
   "execution_count": 3,
   "metadata": {},
   "outputs": [],
   "source": [
    "def preprocess(f):\n",
    "    return re.sub(r'[^\\x00-\\x7f]',\"\",\"\\n\".join([el.strip() for el in f.split(\"\\n\") if len(el.strip()) > 1]))"
   ]
  },
  {
   "cell_type": "code",
   "execution_count": null,
   "metadata": {},
   "outputs": [],
   "source": [
    "def preprocess(document):\n",
    "        \"\"\"\n",
    "        This function preprocess the document and removes all the noise\n",
    "        \n",
    "        \n",
    "        \"\"\"\n",
    "        return re.sub(r'[^\\x00-\\x7f]',\"\",\"\\n\".join([el.strip() for el in f.split(\"\\n\") if len(el.strip()) > 1]))\n",
    "        # Newlines are one element of structure in the data\n",
    "        # Helps limit the context and breaks up the data as is intended in resumes - i.e., into points\n",
    "        lines = [el.strip() for el in document.split(\"\\n\") if len(el) > 0]  # Splitting on the basis of newlines \n",
    "        lines = [nltk.word_tokenize(el) for el in lines]    # Tokenize the individual lines\n",
    "        lines = [nltk.pos_tag(el) for el in lines]  # Tag them\n",
    "        # Below approach is slightly different because it splits sentences not just on the basis of newlines, but also full stops \n",
    "        # - (barring abbreviations etc.)\n",
    "        # But it fails miserably at predicting names, so currently using it only for tokenization of the whole document\n",
    "        sentences = nltk.sent_tokenize(document)    # Split/Tokenize into sentences (List of strings)\n",
    "        sentences = [nltk.word_tokenize(sent) for sent in sentences]    # Split/Tokenize sentences into words (List of lists of strings)\n",
    "        tokens = sentences\n",
    "        sentences = [nltk.pos_tag(sent) for sent in sentences]    # Tag the tokens - list of lists of tuples - each tuple is (<word>, <tag>)\n",
    "        # Next 4 lines convert tokens from a list of list of strings to a list of strings; basically stitches them together\n",
    "        dummy = []\n",
    "        for el in tokens:\n",
    "            dummy += el\n",
    "        tokens = dummy\n",
    "        # tokens - words extracted from the doc, lines - split only based on newlines (may have more than one sentence)\n",
    "        # sentences - split on the basis of rules of grammar\n",
    "        return tokens, lines, sentences"
   ]
  },
  {
   "cell_type": "code",
   "execution_count": 4,
   "metadata": {},
   "outputs": [],
   "source": [
    "def Name(text):\n",
    "    \"\"\"\n",
    "    This function gives the names from the given text\n",
    "        \n",
    "    text: Text from which names has to be extracted\n",
    "    \"\"\"\n",
    "    Names = open(\"first_names.txt\", \"r\").read().lower()\n",
    "    # Lookup in a set is much faster\n",
    "    Names = set(Names.split(\"\\n\"))\n",
    "    otherNameHits = []\n",
    "    nameHits = []\n",
    "    name = None\n",
    "    lines = [el.strip() for el in text.split(\"\\n\") if len(el) > 0]\n",
    "    lines = [nltk.word_tokenize(el) for el in lines]\n",
    "    tokens = lines\n",
    "    lines = [nltk.pos_tag(el) for el in lines]\n",
    "    grammar = r'NAME: {<NN.*><NN.*><NN.*><NN.*>*}'\n",
    "    chunkParser = nltk.RegexpParser(grammar)\n",
    "    all_chunked_tokens = []\n",
    "    for tagged_tokens in lines:\n",
    "        if len(tagged_tokens) == 0: continue # Prevent it from printing warnings\n",
    "        chunked_tokens = chunkParser.parse(tagged_tokens)\n",
    "        all_chunked_tokens.append(chunked_tokens)\n",
    "        for subtree in chunked_tokens.subtrees():\n",
    "            if subtree.label() == 'NAME':\n",
    "                for ind, leaf in enumerate(subtree.leaves()):\n",
    "                    if leaf[0].lower() in Names and 'NN' in leaf[1]:\n",
    "                        hit = \" \".join([el[0] for el in subtree.leaves()[ind:ind+3]])\n",
    "                        if re.compile(r'[\\d,:]').search(hit): continue\n",
    "                        nameHits.append(hit)\n",
    "    if len(nameHits) > 0:\n",
    "        nameHits = [re.sub(r'[^a-zA-Z \\-]', '', el).strip() for el in nameHits] \n",
    "        name = \" \".join([el[0].upper()+el[1:].lower() for el in nameHits[0].split() if len(el)>0])\n",
    "        otherNameHits = nameHits[1:]\n",
    "    print(name)\n",
    "    return name, otherNameHits"
   ]
  },
  {
   "cell_type": "code",
   "execution_count": 95,
   "metadata": {},
   "outputs": [],
   "source": [
    "f = preprocess(convertPDFToText(\"resume_trail4.pdf\"))"
   ]
  },
  {
   "cell_type": "code",
   "execution_count": 96,
   "metadata": {
    "collapsed": true
   },
   "outputs": [
    {
     "name": "stdout",
     "output_type": "stream",
     "text": [
      "Arya Nick Shamie\n"
     ]
    },
    {
     "data": {
      "text/plain": [
       "('Arya Nick Shamie',\n",
       " ['Nick Shamie',\n",
       "  'Barrington Ave',\n",
       "  'Marys Hospital',\n",
       "  'Marshall R Urist',\n",
       "  'Dawson Traveling Fellowship',\n",
       "  'Louis',\n",
       "  'Wadsworth Veterans Administration',\n",
       "  'Monica Hospital',\n",
       "  'Wadsworth Veterans Administration',\n",
       "  'Wadsworth Veterans Administration',\n",
       "  'Wadsworth Veterans Administration',\n",
       "  'AO North America',\n",
       "  'Dawson Traveling Fellowship',\n",
       "  'Best Spine Specialists',\n",
       "  'Beckers Spine Top',\n",
       "  'Grant',\n",
       "  'Grant',\n",
       "  'AO North America',\n",
       "  'Tehran University Medical',\n",
       "  'Beckers National ASC',\n",
       "  'King Faisal University',\n",
       "  'Faisal University Medical',\n",
       "  'Michael F Schafer',\n",
       "  'Schafer',\n",
       "  'Marshall R Urist',\n",
       "  'Joseph J Kim',\n",
       "  'Kim',\n",
       "  'Virginia University',\n",
       "  'Holly LA thoracic',\n",
       "  'Jr',\n",
       "  'Elaine Ku Y',\n",
       "  'Ku Y',\n",
       "  'Nick Shamie A',\n",
       "  'Cummings J Jr',\n",
       "  'Jr',\n",
       "  'Wang L Chondrogenic',\n",
       "  'marrow clots',\n",
       "  'Wang L Chondrogenic',\n",
       "  'marrow clots',\n",
       "  'Chen W Morphometric',\n",
       "  'Sean L Borkowski',\n",
       "  'Juan Pablo Villablanca',\n",
       "  'Pablo Villablanca',\n",
       "  'Arya Nick Shamie',\n",
       "  'Nick Shamie',\n",
       "  'Mary Harwell Sayler',\n",
       "  'Harwell Sayler',\n",
       "  'Sayler',\n",
       "  'Arya Nick Shamie',\n",
       "  'Nick Shamie',\n",
       "  'Wang J Minimally',\n",
       "  'Wang J Bone',\n",
       "  'Chang D Roche',\n",
       "  'Roche J BMP-',\n",
       "  'Wang J Lumbar',\n",
       "  'Wang J Lumbar',\n",
       "  'Schneider P Lumbar',\n",
       "  'Marys Spine Center',\n",
       "  'AO Principles Related',\n",
       "  'AO Basic Spine',\n",
       "  'AO Advanced Spine',\n",
       "  'AO Degenerative Spine',\n",
       "  'AO Degenerative Spine',\n",
       "  'AO Degenerative Spine',\n",
       "  'AO Degenerative Spine',\n",
       "  'Dawson Memorial Lectureship',\n",
       "  'AO Spine Course',\n",
       "  'AO Spine Course',\n",
       "  'Fellows Course',\n",
       "  'Wang J Lumbar',\n",
       "  'Schneider P Lumbar',\n",
       "  'Paul Moyer Show',\n",
       "  'Moyer Show August',\n",
       "  'Brentwood Homeowners Association',\n",
       "  'Brentwood Community Council',\n",
       "  'Brentwood Community Council',\n",
       "  'Monica Bay Clean'])"
      ]
     },
     "execution_count": 96,
     "metadata": {},
     "output_type": "execute_result"
    }
   ],
   "source": [
    "Name(f)"
   ]
  },
  {
   "cell_type": "markdown",
   "metadata": {},
   "source": [
    "### Resume too expertise Match"
   ]
  },
  {
   "cell_type": "code",
   "execution_count": null,
   "metadata": {},
   "outputs": [],
   "source": [
    "def restoexp(text):\n",
    "    "
   ]
  },
  {
   "cell_type": "code",
   "execution_count": 10,
   "metadata": {
    "collapsed": true
   },
   "outputs": [
    {
     "data": {
      "text/plain": [
       "{'accounting',\n",
       " 'agriculturalengineer',\n",
       " 'anesthesiology',\n",
       " 'architect',\n",
       " 'automotiveengineer',\n",
       " 'ballistics&firearms',\n",
       " 'banking',\n",
       " 'biomedicalengineer',\n",
       " 'bloodanalysis',\n",
       " 'cardiologist',\n",
       " 'cardiothoracicsurgeon',\n",
       " 'chemicalengineer',\n",
       " 'chiropractor',\n",
       " 'civilengineer',\n",
       " 'computerhardware',\n",
       " 'computersecurity',\n",
       " 'computersoftware',\n",
       " 'dermatologist',\n",
       " 'documentexaminer',\n",
       " 'economist',\n",
       " 'electricalengineer',\n",
       " 'elevator',\n",
       " 'emergencyroom',\n",
       " 'endocrinology',\n",
       " 'ent&allergist',\n",
       " 'environmentalengineer',\n",
       " 'finance',\n",
       " 'fingerprint',\n",
       " 'firecause&analysis',\n",
       " 'foodsafety',\n",
       " 'forensicpathologist',\n",
       " 'general&familypractice',\n",
       " 'generaldentistry',\n",
       " 'generalsurgeon ',\n",
       " 'highwaydesign&construction',\n",
       " 'hospitaladministration',\n",
       " 'humanfactorsengineer',\n",
       " 'humanresourcemanagement',\n",
       " 'hvac',\n",
       " 'hydrology',\n",
       " 'industrialengineer',\n",
       " 'industrialhygiene',\n",
       " 'insurance',\n",
       " 'internalmedicine',\n",
       " 'legalnurseconsultant',\n",
       " 'lifecareplanner',\n",
       " 'machinesafety&guarding',\n",
       " 'maritime',\n",
       " 'materialsengineer',\n",
       " 'mechanicalengineer',\n",
       " 'neurologist',\n",
       " 'neurosurgeon',\n",
       " 'ob&gyn',\n",
       " 'oncology',\n",
       " 'operatingroomnurse',\n",
       " 'opthalmologist',\n",
       " 'orthopedicsurgeon',\n",
       " 'orthopedist',\n",
       " 'osha',\n",
       " 'paramedic',\n",
       " 'pediatrics',\n",
       " 'pharmacist',\n",
       " 'pharmicologist',\n",
       " 'physical therapy',\n",
       " 'physiciansassistant',\n",
       " 'policeprocedures',\n",
       " 'psychiatry',\n",
       " 'psychology',\n",
       " 'publichealth',\n",
       " 'pulmonarymedicine',\n",
       " 'radiology',\n",
       " 'realpropertyappraiser',\n",
       " 'recreationalsafety',\n",
       " 'safetyengineer',\n",
       " 'slips&falls&cof',\n",
       " 'statistician',\n",
       " 'stockmarketactivities',\n",
       " 'structuralengineer',\n",
       " 'toxicologist',\n",
       " 'urology',\n",
       " 'vascularsurgeon'}"
      ]
     },
     "execution_count": 10,
     "metadata": {},
     "output_type": "execute_result"
    }
   ],
   "source": [
    "exps = open(\"expertise.txt\", \"r\").read().lower()\n",
    "exps = set([re.sub(r'\"', \"\", x) for x in exps.split(\"\\n\")])\n",
    "exps"
   ]
  },
  {
   "cell_type": "code",
   "execution_count": 13,
   "metadata": {},
   "outputs": [
    {
     "name": "stdout",
     "output_type": "stream",
     "text": [
      "0.5048368645431112\n"
     ]
    }
   ],
   "source": [
    "import spacy\n",
    "nlp = spacy.load('en_core_web_md')\n",
    "doc1 = nlp('Document Examiner')\n",
    "doc2 = nlp(f)\n",
    "\n",
    "print (doc1.similarity(doc2))"
   ]
  },
  {
   "cell_type": "code",
   "execution_count": 78,
   "metadata": {},
   "outputs": [
    {
     "name": "stdout",
     "output_type": "stream",
     "text": [
      "0.5326668738254434\n"
     ]
    }
   ],
   "source": [
    "doc1 = nlp('internal medicine')\n",
    "doc2 = nlp(para)\n",
    "\n",
    "print (doc1.similarity(doc2))"
   ]
  },
  {
   "cell_type": "code",
   "execution_count": 55,
   "metadata": {},
   "outputs": [],
   "source": [
    "def sent_pos(text):\n",
    "    \"\"\"\n",
    "    Splits the given text into words and identifies the pos tags\n",
    "    \"\"\"\n",
    "    lines = [el.strip() for el in text.split(\"\\n\") if len(el) > 0]\n",
    "    lines = [nltk.word_tokenize(el) for el in lines]\n",
    "    tokens = lines\n",
    "    lines = [nltk.pos_tag(el) for el in lines]\n",
    "    \n",
    "    return lines, tokens"
   ]
  },
  {
   "cell_type": "code",
   "execution_count": 97,
   "metadata": {},
   "outputs": [],
   "source": [
    "def expertise_match(text):\n",
    "    \"\"\"\n",
    "    Matches the given text to the expertise list\n",
    "    \n",
    "    text: text which has to be matched with the expertise\n",
    "    \"\"\"\n",
    "    lines, tokens = sent_pos(text)\n",
    "    \n",
    "    # Selecting only nouns from the text\n",
    "    lis = []\n",
    "    for x in lines:\n",
    "        lines_nns = \" \".join([i for (i,j) in x if j in ('NN', 'NNP', 'NNS', 'NNPS')])\n",
    "        lis.append(lines_nns)\n",
    "    text = \"\\n\".join([x for x in lis if len(x) > 1])\n",
    "    \n",
    "    #Importing the expertise list and preprocessing it\n",
    "    exps = open(\"expertise.txt\", \"r\").read().lower()\n",
    "    exps = set([re.sub(r'\"', \"\", x) for x in exps.split(\"\\n\")])\n",
    "    \n",
    "    #Loading word embedding model\n",
    "    #nlp = spacy.load('en_core_web_md')\n",
    "    \n",
    "    # Measuring the simiarity of score of every expertise with the resume\n",
    "    sim_scores = dict([(x, float(nlp(x).similarity(nlp(text)))) for x in exps])\n",
    "    \n",
    "    # Returning the top 5 expertises which has more expertise scores\n",
    "    top5_sim = collections.Counter(sim_scores)\n",
    "    top5_sim = top5_sim.most_common()[0:5]\n",
    "    \n",
    "    return top5_sim"
   ]
  },
  {
   "cell_type": "code",
   "execution_count": 98,
   "metadata": {
    "collapsed": true
   },
   "outputs": [
    {
     "name": "stderr",
     "output_type": "stream",
     "text": [
      "/Users/kbsriharsha/anaconda3/lib/python3.6/runpy.py:193: UserWarning: [W008] Evaluating Doc.similarity based on empty vectors.\n",
      "  \"__main__\", mod_spec)\n",
      "/Users/kbsriharsha/anaconda3/lib/python3.6/runpy.py:193: UserWarning: [W008] Evaluating Doc.similarity based on empty vectors.\n",
      "  \"__main__\", mod_spec)\n",
      "/Users/kbsriharsha/anaconda3/lib/python3.6/runpy.py:193: UserWarning: [W008] Evaluating Doc.similarity based on empty vectors.\n",
      "  \"__main__\", mod_spec)\n",
      "/Users/kbsriharsha/anaconda3/lib/python3.6/runpy.py:193: UserWarning: [W008] Evaluating Doc.similarity based on empty vectors.\n",
      "  \"__main__\", mod_spec)\n"
     ]
    },
    {
     "data": {
      "text/plain": [
       "[('radiology', 0.6941772196470658),\n",
       " ('internal medicine', 0.6861298975385284),\n",
       " ('general dentistry', 0.6800815245070093),\n",
       " ('general surgeon ', 0.6647086377016168),\n",
       " ('physical therapy', 0.6566779184331288)]"
      ]
     },
     "execution_count": 98,
     "metadata": {},
     "output_type": "execute_result"
    }
   ],
   "source": [
    "vals = expertise_match(f)\n",
    "vals"
   ]
  },
  {
   "cell_type": "code",
   "execution_count": 66,
   "metadata": {},
   "outputs": [
    {
     "data": {
      "text/plain": [
       "[('radiology', 0.6943317175645327),\n",
       " ('internal medicine', 0.686444917443523),\n",
       " ('general dentistry', 0.6802893973453646),\n",
       " ('general surgeon ', 0.6651935755372924),\n",
       " ('physical therapy', 0.6572546585241908),\n",
       " ('pulmonary medicine', 0.6536513296688545),\n",
       " ('life care planner', 0.6520802527422096),\n",
       " ('ob & gyn', 0.6421192897411562),\n",
       " ('vascular surgeon', 0.6295381606269511),\n",
       " ('hospital administration', 0.6259523157182344)]"
      ]
     },
     "execution_count": 66,
     "metadata": {},
     "output_type": "execute_result"
    }
   ],
   "source": [
    "import collections\n",
    "d = collections.Counter(vals)\n",
    "d.most_common()[0:10]"
   ]
  },
  {
   "cell_type": "code",
   "execution_count": 77,
   "metadata": {},
   "outputs": [],
   "source": [
    "lis = []\n",
    "for x in lines:\n",
    "    lines_nns = \" \".join([i for (i,j) in x if j in ('NN', 'NNP', 'NNS', 'NNPS', 'VB', 'VBP', 'VBD')])\n",
    "    lis.append(lines_nns)\n",
    "para = \"\\n\".join([x for x in lis if len(x) > 1])"
   ]
  },
  {
   "cell_type": "markdown",
   "metadata": {},
   "source": [
    "### Resume To Job Description Match"
   ]
  },
  {
   "cell_type": "code",
   "execution_count": null,
   "metadata": {},
   "outputs": [],
   "source": [
    "def job_des(text):\n",
    "    \"\"\"\n",
    "    Provides a similarity score between the job description and resume\n",
    "    \n",
    "    text: text to which the similarity score has to be calcualted from the job description\n",
    "    \"\"\"\n",
    "    \n",
    "    \n",
    "    "
   ]
  },
  {
   "cell_type": "markdown",
   "metadata": {},
   "source": [
    "### Addresses Related Information"
   ]
  },
  {
   "cell_type": "code",
   "execution_count": 174,
   "metadata": {},
   "outputs": [
    {
     "data": {
      "text/html": [
       "<div>\n",
       "<style scoped>\n",
       "    .dataframe tbody tr th:only-of-type {\n",
       "        vertical-align: middle;\n",
       "    }\n",
       "\n",
       "    .dataframe tbody tr th {\n",
       "        vertical-align: top;\n",
       "    }\n",
       "\n",
       "    .dataframe thead th {\n",
       "        text-align: right;\n",
       "    }\n",
       "</style>\n",
       "<table border=\"1\" class=\"dataframe\">\n",
       "  <thead>\n",
       "    <tr style=\"text-align: right;\">\n",
       "      <th></th>\n",
       "      <th>City</th>\n",
       "      <th>state_id</th>\n",
       "      <th>State</th>\n",
       "    </tr>\n",
       "  </thead>\n",
       "  <tbody>\n",
       "    <tr>\n",
       "      <th>0</th>\n",
       "      <td>South Creek</td>\n",
       "      <td>WA</td>\n",
       "      <td>Washington</td>\n",
       "    </tr>\n",
       "    <tr>\n",
       "      <th>1</th>\n",
       "      <td>Roslyn</td>\n",
       "      <td>WA</td>\n",
       "      <td>Washington</td>\n",
       "    </tr>\n",
       "    <tr>\n",
       "      <th>2</th>\n",
       "      <td>Sprague</td>\n",
       "      <td>WA</td>\n",
       "      <td>Washington</td>\n",
       "    </tr>\n",
       "    <tr>\n",
       "      <th>3</th>\n",
       "      <td>Gig Harbor</td>\n",
       "      <td>WA</td>\n",
       "      <td>Washington</td>\n",
       "    </tr>\n",
       "    <tr>\n",
       "      <th>4</th>\n",
       "      <td>Lake Cassidy</td>\n",
       "      <td>WA</td>\n",
       "      <td>Washington</td>\n",
       "    </tr>\n",
       "  </tbody>\n",
       "</table>\n",
       "</div>"
      ],
      "text/plain": [
       "           City state_id       State\n",
       "0   South Creek       WA  Washington\n",
       "1        Roslyn       WA  Washington\n",
       "2       Sprague       WA  Washington\n",
       "3    Gig Harbor       WA  Washington\n",
       "4  Lake Cassidy       WA  Washington"
      ]
     },
     "execution_count": 174,
     "metadata": {},
     "output_type": "execute_result"
    }
   ],
   "source": [
    "df_cities = pd.read_csv(\"uscities.csv\", encoding ='latin1')\n",
    "df_cities.head()"
   ]
  },
  {
   "cell_type": "code",
   "execution_count": 228,
   "metadata": {},
   "outputs": [],
   "source": [
    "states = df_cities['State'].unique()"
   ]
  },
  {
   "cell_type": "code",
   "execution_count": 233,
   "metadata": {},
   "outputs": [],
   "source": [
    "f = preprocess(convertPDFToText(\"resume_trail2.pdf\"))"
   ]
  },
  {
   "cell_type": "code",
   "execution_count": 234,
   "metadata": {},
   "outputs": [],
   "source": [
    "dict_cities = {}\n",
    "for x in states:\n",
    "    index = \" \".join(re.findall(\"[a-zA-Z]+\", f)).lower().find(\"\".join(re.findall(\"[a-zA-Z]+\", x)).lower())\n",
    "    if index != -1:\n",
    "        dict_cities[x] = index\n",
    "    else:\n",
    "        index = None"
   ]
  },
  {
   "cell_type": "code",
   "execution_count": 232,
   "metadata": {},
   "outputs": [
    {
     "data": {
      "text/plain": [
       "143"
      ]
     },
     "execution_count": 232,
     "metadata": {},
     "output_type": "execute_result"
    }
   ],
   "source": [
    "dict_cities['Texas']"
   ]
  },
  {
   "cell_type": "code",
   "execution_count": 235,
   "metadata": {},
   "outputs": [
    {
     "data": {
      "text/plain": [
       "'Massachusetts'"
      ]
     },
     "execution_count": 235,
     "metadata": {},
     "output_type": "execute_result"
    }
   ],
   "source": [
    "min(dict_cities, key = dict_cities.get)"
   ]
  },
  {
   "cell_type": "code",
   "execution_count": 219,
   "metadata": {},
   "outputs": [
    {
     "data": {
      "text/plain": [
       "'LosAngeles'"
      ]
     },
     "execution_count": 219,
     "metadata": {},
     "output_type": "execute_result"
    }
   ],
   "source": [
    "\"\".join(re.findall(\"[a-zA-Z]+\", \"Los Angeles\"))"
   ]
  },
  {
   "cell_type": "code",
   "execution_count": 311,
   "metadata": {},
   "outputs": [],
   "source": [
    "f = preprocess(convertPDFToText(\"Resume_Harsha_Updated.pdf\"))"
   ]
  },
  {
   "cell_type": "code",
   "execution_count": 312,
   "metadata": {},
   "outputs": [
    {
     "data": {
      "text/plain": [
       "[94 Central Ave APT 1 Jersey City NJ 07306]"
      ]
     },
     "execution_count": 312,
     "metadata": {},
     "output_type": "execute_result"
    }
   ],
   "source": [
    "address(f)"
   ]
  },
  {
   "cell_type": "code",
   "execution_count": 237,
   "metadata": {
    "collapsed": true
   },
   "outputs": [
    {
     "data": {
      "text/plain": [
       "'Milton Village, Massachusetts 02187\\nWalter C. White\\nBox 87044\\n617.833.8528\\nEducation\\nFramingham State College Framingham, Massachusetts\\nMaster of Arts in Public Administration, 2003\\nNortheastern University Boston Massachusetts\\nBachelor of Science, Criminal Justice, 1977.\\nEmployment\\n8/2013 to present          Town of Milton, Local Building Inspector.\\n8/2006 to present\\n8/2006 to 6/2011\\n4/2006 to 8/2006\\n11/1997 to 2/2004\\nCommonwealth of Massachusetts Architectural Access Board,\\nChairman\\nServing as Designee of the Executive Office of Public Safety.\\nTown of Brookline, Deputy Building Commissioner\\n333 Washington Street Brookline, Massachusetts 02245\\n  Supervise permitting of construction projects within the town of\\nBrookline in this newly created position.\\nThe Flatley Company, Project Director\\n35 Braintree Hill Park Braintree, Massachusetts 02184\\n  Managed permitting process for several retail and commercial\\nconstruction projects for major New England real estate\\ndeveloper.\\n  Currently serve as consultant to the company.\\nCity of Quincy, Director of Inspectional Services\\n55 Sea St, Quincy MA 02169\\n  Department Head for Inspectional Services supervising Building\\nInspections, Zoning, Plumbing & Gas Inspections, Wire\\nInspections, Conservation, Weights & Measures. Supervised 20\\nemployees responsible for issuing permits and inspecting\\nconstruction work, and code enforcement.\\n6/1996 to 11/1997\\nTown of Franklin, Local Building Inspector\\n150 Emmons Street Franklin, Massachusetts\\nIssued building permits and performed inspections\\npursuant to 780 CMR, the Massachusetts State Building\\nCode and the Town of Franklin Zoning By-Law.\\n1978 to 1998\\n2004 to present\\n1974 to 1979\\nProfessional Licenses\\nCommonwealth of Massachusetts:\\nWalter C. White Construction Company\\n38 Windsor Road Milton, Massachusetts.\\n  Founder and President of Construction Company\\nspecializing in residential and light commercial building\\nand remodeling.\\nMassachusetts State Police Framingham, Massachusetts.\\nState Police Trooper.\\n  Performed police patrol duties while assigned to the\\nBourne, Concord, and Mass Turnpike and Tunnels\\nBarracks.\\nConstruction Supervisor, No Restrictions, 1978\\nCertified Local Building Inspector 1997\\nCertified Inspector of Buildings/Building Commissioner 1997'"
      ]
     },
     "execution_count": 237,
     "metadata": {},
     "output_type": "execute_result"
    }
   ],
   "source": [
    "f"
   ]
  },
  {
   "cell_type": "markdown",
   "metadata": {},
   "source": [
    "### Phone"
   ]
  },
  {
   "cell_type": "code",
   "execution_count": 290,
   "metadata": {},
   "outputs": [],
   "source": [
    "def mobile_number(text):\n",
    "    \"\"\"\n",
    "    function to extract mobile number from text\n",
    "    text: plain text extracted from resume file\n",
    "    \"\"\"\n",
    "    mob_num_regex = r'''\\d{3}[-\\.\\s]??\\d{3}[-\\.\\s]??\\d{4}|\\(\\d{3}\\)[-\\.\\s]*\\d{3}[-\\.\\s]??\\d{4}|\\d{3}[-\\.\\s]\\d{3}.\\d{4}|\\(\\d{3}[)-\\.\\s].\\d{3}.\\d{4}'''\n",
    "\n",
    "    phone = re.findall(re.compile(mob_num_regex), text)\n",
    "    if phone:\n",
    "        number = ''.join(phone[0])\n",
    "\n",
    "        return number"
   ]
  },
  {
   "cell_type": "code",
   "execution_count": 301,
   "metadata": {},
   "outputs": [],
   "source": [
    "f = preprocess(convertPDFToText(\"resume_trail5.pdf\"))"
   ]
  },
  {
   "cell_type": "code",
   "execution_count": 302,
   "metadata": {},
   "outputs": [
    {
     "data": {
      "text/plain": [
       "'614-276-8123'"
      ]
     },
     "execution_count": 302,
     "metadata": {},
     "output_type": "execute_result"
    }
   ],
   "source": [
    "mobile_number(f)"
   ]
  },
  {
   "cell_type": "code",
   "execution_count": 266,
   "metadata": {
    "collapsed": true
   },
   "outputs": [
    {
     "data": {
      "text/plain": [
       "\"A. N. Shamie, MD\\nCurriculum Vitae 1/20/16\\nPage 1\\nProfessor & Chief, Orthopaedic Spine Surgery\\nCURRICULUM   VITAE\\nArya Nick Shamie, M.D.\\nProfessor of Neurosurgery\\nUCLA School of Medicine\\n200 S. Barrington Ave., #1642\\nLos Angeles, CA 90049\\nTel: (310) 494-6310\\nFax: (310) 601-1869\\nEmail: drshamie@spinemdla.com\\nProfessor (Hon.), Zhejiang University, China\\nMarch, 1968\\nDetroit, Michigan\\nBORN:\\nEDUCATION:\\nSouth Pasadena High School,\\nSouth Pasadena, California\\nDiploma - 1985\\nUniversity of California, Irvine\\nIrvine, California\\nBA -Honors in Biology - June 1990\\nNorthwestern University Medical School 1990-1994\\nChicago, Illinois\\nMD  June 1994\\nINTERNSHIP\\nGeneral Surgery: Los Angeles County/USC Medical Center, Los Angeles, CA\\nPOST GRADUATE TRAINING:\\nJuly 1994 - June 1995\\nRESIDENCY\\nOrthopaedic Resident: San Francisco: July 1996  June 2000.\\nSan Francisco Orthopaedic Residency Program\\nSt. Marys Hospital and Medical Center, San Francisco, CA\\nA. N. Shamie, MD\\nCurriculum Vitae 1/20/16\\nPage 2\\nFELLOWSHIPS\\nOrthopaedic Basic Science: July 1995-June 1996\\nUCLA Bone Research Lab\\nUCLA School of Medicine\\nLos Angeles, CA\\nDr. Marshall R. Urist\\nOrthopaedic Spine Surgery: UCLA: July 2000 - August 2001\\nDept. of Orthopaedic Surgery\\nUCLA School of Medicine\\nLos Angeles, CA\\nDrs. Edgar Dawson, Rick Delamarter, Jeffrey Wang\\nScoliosis Research Society: November 2006\\nDawson Traveling Fellowship\\nWashington University- St. Louis, MO\\nDrs. Lawrence Lenke and Keith Bridwell\\nPROFESSIONAL CERTIFICATIONS\\nDiplomate, National Board of Medical Examiners, 1996\\nState of California Board of Medical Examiners, 1996\\nQualified Medical Evaluator; Industrial Medical Council, Sacramento, California, 2001\\nState of California, Department of Health\\nFluoroscopy Supervisor and Operator Permit, June 2000.\\nTitle 17, Section 30404(c)\\nKyphoplasty and Vertebroplasty Certification; 2002\\nBoard Certified, American Board of Orthopaedic Surgery, September 2003 to Dec 2013.\\nQualified Medical Evaluator, November 2011\\nExpert Reviewer, Medical Board of California, 2012\\nBoard Re-Certified, American Board of Orthopaedic Surgery, Sept. 2012 to Dec 2023.\\nA. N. Shamie, MD\\nCurriculum Vitae 1/20/16\\nPage 3\\nACADEMIC APPOINTMENTS\\nClinical Instructor, UCLA Medical Center, July 2000  August 2001\\nAssistant Clinical Professor of Orthopaedic Surgery, UCLA/Orthopaedic Hospital\\nAssociates, July 1, 2001-January 1, 2002\\nAssistant Clinical Professor of Orthopaedic Surgery, UCLA School of Medicine,\\nJanuary 1, 2002  June 2008\\nAssistant Professor of Neurosurgery, UCLA School of Medicine,\\nJuly 1, 2003  June 2008\\nAssociate Professor of Orthopaedic Surgery and Neurosurgery, UCLA School of\\nMedicine\\nJune 2008  June 2014\\nProfessor of Orthopaedic Surgery and Neurosurgery, UCLA School of Medicine\\nJuly 2014  Present\\nHonorary Professor of Orthopaedic Surgery, Zhejiang University, Hangzhou, China\\nApril 2015-Present\\nHOSPITAL/PROFESSIONAL APPOINTMENTS\\nAttending Surgeon, UCLA Medical Center, July 2000-present\\nVolunteer Faculty, Wadsworth Veterans Administration Hospital, Los Angeles, July\\n2000-January 2002\\nAttending Surgeon, UCLA Santa Monica Hospital, July 2000-present\\nConsulting Surgeon, Wadsworth Veterans Administration Hospital, Los Angeles,\\nSeptember 2002-September 2004\\nAttending Surgeon, Wadsworth Veterans Administration Hospital, Los Angeles,\\nSeptember 2004-Present\\nCo-Director, UCLA Comprehensive Spine Center\\nSeptember 1, 2003- September 1, 2004\\nMedical Director, UCLA Comprehensive Spine Center\\nSeptember 2003- September 2004\\nChief, Spine Service, Wadsworth Veterans Administration Hospital, Los Angeles\\nSeptember 2004- August 2012\\nA. N. Shamie, MD\\nCurriculum Vitae 1/20/16\\nPage 4\\nDirector, Spinal Deformity Surgery, UCLA Orthopaedic Hospital\\nDecember 2007  August 2009\\nElected Board Member, Executive Medical Board (EMB) of SM/UCLA Medical Center\\nand Orthopaedic Hospital\\nTerm: August 2009  December 2011\\nBoard of Directors, American College of Spine Surgery\\nAmerican Board of Spine Surgery, 2009 - Present\\nPresident, American College of Spine Surgery (ACSS)\\nTerms: 2010-2011, re-elected 2011-2012,\\nRe-elected: 2012-2014\\nDirector, Quality and Compliance, UCLA Department of Orthopaedic Surgery\\nJuly 2012- Present\\nChief, Orthopaedic Spine Surgery, UCLA School of Medicine\\n2013-Present\\nDirector, UCLA Spine Center, UCLA Department of Orthopaedic Surgery\\n2013-Present\\nHONORS, AWARDS\\nAlpha Delta Pi, national honor society\\nDean's Honor List, six quarters, 1989-1990\\nExcellence in Research, 1990\\nHonors Graduate in Biological Sciences, 1990\\nOutstanding Research Award, SFORP, 2000\\nGuest Editor, ORTHOPEDICS COA Symposium on Bone Morphogenetic Protein-\\n2001\\nTeaching Faculty, AO North America, 2003\\nCourse Chairman, A Surgeons Workshop Featuring Hands-On Techniques for Spine\\nSurgery, Los Angeles, CA 2006\\nScoliosis Research Society Dawson Traveling Fellowship, 2006\\nNamed on the Beckers 50 of the Best Spine Specialists in America list, 2010\\nA. N. Shamie, MD\\nCurriculum Vitae 1/20/16\\nPage 5\\nPatients Choice Award, Vitals.com, 2010, 2011, 2012, 2013, 2014, 2015\\nCompassionate Doctor Award (based on Online Patient Surveys), 2011, 2012, 2013,\\n2014, 2015\\nNamed on the list of Top Doctors, US News and World Report and Castle Connolly,\\n2012, 2013, 2014, 2015\\nNamed on Beckers Spine Top 10 Academic Spine Surgeons list 2012\\nNamed on Super Doctors: 2013, 2014, 2015\\nBoard Examiner, Kingdom of Saudi Arabia, Saudi Commission of Clinical Specialties,\\nOrthopaedic Final Board Examination, Jeddah, December 2014\\nRESEARCH SUPPORT AND GRANTS\\nEBI Inc., Orthopaedic Spine Research; 2002\\nDepuy Johnson and Johnson, Spine Educational Grant; 2004\\nEBI Inc., Orthopaedic Spine Research; 2005\\nSynthes Spine, Spine Arthroplasty Grant; 2005\\nBiomet Inc. Spine Educational and Research; 2006\\nScoliosis Research Society Traveling Fellowship; 2006\\nKyphon Inc. Treatment of Lumbar Spinal Stenosis with X STOP Interspinous Process\\nDecompression (IPD) System in Moderately Symptomatic Patients. FDA Post Approval\\nStudy; 2007\\nVertiflex Superion: Minimally Invasive ISP. Medical Director, FDA PMA Study. 2009-\\n2014. Voted for Approval by FDA Orthopaedic Advisory Panel February 2015.\\nMEMBERSHIPS/APPOINTMENTS   (Active at Present)\\nActive Member and Faculty, AO North America, 2001\\nActive Member, American Board of Orthopaedic Surgery, 2003\\nAssociate Member, American Academy of Orthopaedic Surgery, 2004\\nAssociate Member, American Association of Orthopaedic Surgery, 2004\\nA. N. Shamie, MD\\nCurriculum Vitae 1/20/16\\nPage 6\\nEDITORIAL SERVICE\\nCandidate Member, Scoliosis Research Society, 2005\\nINVITED LECTURESHIP\\nGuest Editor: Symposium on Bone Morphogenetic Protein, ORTHOPEDICS, Volume\\n24(7), 1999\\nEditorial Staff: Int. Journal of Spine Surgery. November 2004 to present\\nEditorial Staff: Spine. December 2004 to present\\nEditor and Forward for: The Encyclopedia of Spine and Back Disorders, Facts On File,\\nNY; August 2007\\nVisiting Lecturer and Surgeon in Orthopaedics, Instituto Orthopedico Galeazzi, Milan,\\nItaly. Bone Morphogenetic Protein in Spine Surgery, February 2003\\nVisiting Lecturer and Surgeon, Nottingham, UK, Use of biologics in spine surgery,\\nOctober 2004\\nInvited Speaker, Grand Rounds, Internal Medicine/Family Practice, UCLA Medical\\nSchool, April 2007. Topic: Lumbar Stenosis and Novel Surgical Treatments\\nInvited Speaker, Grand Rounds, Orthopaedic Surgery, Northwestern University, June\\n2007. Topic: Lumbar Stenosis and Novel Surgical Treatments\\nKeynote Speaker, Grand Round/Residency Graduation, San Francisco Orthopaedic\\nResidency Program, June 2007. Topic: Cervical Fixation Techniques; C2 Intralaminar\\nScrew fixation.\\nKeynote Speaker, Western Orthopaedic Association, Los Angeles, CA, September 10,\\n2007. Topic: Novel Surgical Treatments for Lumbar Spinal Stenosis.\\nInvited Speaker, Grand Rounds, Orthopaedic Surgery, University of Southern California,\\nOctober 2007. Topic: Thoracolumbar Fractures: Classification and Treatment Modalities.\\nInvited Speaker, Grand Rounds, Orthopaedic Surgery, Medical College of Georgia\\n(Augusta), Oct 2007. Topic: Lumbar Stenosis and Novel Surgical Treatments.\\nFaculty Speaker, 4th Annual UCLA Advances in Neurotherapeutics (CME Event), Santa\\nMonica, CA November 15, 2008. Topic: Advances in Neurosurgical Management of\\nPain.\\nChairman, IMS Advances in Medical and Surgical Techniques. CME Conference; UCLA\\nFaculty Center; March 15, 2008.\\nA. N. Shamie, MD\\nCurriculum Vitae 1/20/16\\nPage 7\\nCourse Co-Chairman, Current Techniques in Spine Surgery. UCSF, San Francisco, CA\\nJanuary 23, 2009.\\nKeynote Speaker, Orthopaedic Symposium, Zhejiang University, Hangzhou, China\\nNovember 3, 2012\\nKeynote Speaker, 107th forum for the Chinese Academy of Engineering-Medical\\nDivision, Hangzhou, CHINA October 11, 2013\\nKeynote Speaker, Orthopaedic Grand Rounds, Beijing Chaoyang Hospital, Capital\\nMedical University of China, Beijing, China October 16, 2013.\\nFeatured Speaker and Surgeon, Webcast to Tehran University Medical School,\\nPresentation and Live Surgery discussion, Global Orthopaedic Alliance for Learning,\\nSanta Monica, CA March 17, 2014.\\nFeatured Speaker.  Beckers National ASC Meeting. Chicago, IL June 12 to June 14,\\n2014.\\nKeynote Speaker, King Faisal University Medical Center, Riyadh, Saudi Arabia.\\nOrthopaedic Grand Rounds, Minimally Invasive Spinal Surgery. December 2014.\\nCOMMITTEES, UCLA Hospital\\nRESEARCH ACTIVITIES and CLINICAL TRIALS\\nSurgical Case Review Committee, 2003 - present\\nEmergency Room Committee, 2003 - 2008\\nSurgery Committee, 2004 - present\\nExecutive Medical Board, 2009  2011\\nUtilization Review Committee, 2009  present\\nQuality Outcomes Committee, 2012  present\\nLandmark assignment for pedicle screw placement; 1991-1992. Preceptor: Michael F.\\nSchafer, M.D. Northwestern University, Department of Orthopaedic Surgery.\\nGrowth Response of bone to TGF-; 1992-1993. Preceptor: Michael F. Schafer, M.D.\\nNorthwestern University, Department of Orthopaedic Surgery.\\nA. N. Shamie, MD\\nCurriculum Vitae 1/20/16\\nPage 8\\nClinical Applications of Bone Morphogenetic Protein (BMP); 1995-1997. Preceptor:\\nMarshall R. Urist, M.D. UCLA Bone Research Lab.\\nRabbit interbody fusion model; 1997-2000. Preceptor: James Zucherman, M.D. San\\nFrancisco Spine Center.\\nPseudarthrosis model in rat spine; 2001-present. UCLA School of Medicine.\\nInductive potential of various bone allografts; 2003-present. UCLA School of Medicine.\\nLaminoplasty and its efficacy as compared to Laminectomy; 2004. UCLA School of\\nMedicine.\\nThe use of a new expandable cage device (Synex) in treatment of Vertberal body\\nfractures, tumors and infection; 2004. UCLA School of Medicine.\\nComparison of PEEK implants to allograft in the TLIF applications, 2005.\\nCo-Investigator; Use of Compression Resistant Matrix as a carrier for BMP-2 in\\nPosterolateral Lumbar Fusion. Completed 2007.\\nCo-investigator; Anti-adhesive barrier in treatment of post-operative epidural scarring.\\nCompleted 2007.\\nPrinicipal Investigator; X Stop Interspinous Spacer FDA 5 year outcome study, 2007-\\n2012\\nMedical Director,  Superion FDA Clinical Trial, 2009-Present\\nLong-term follow-up of hBMP patient implanted at UCLA, 2012\\nAnatomy of Sacroiliac joint and anomalies complicating implantation for fusion, 2012\\nIncidence of spine injuries in the entertainment industry, 2012\\nSpinal Laminar Thickness with aging, 2013\\nPrevalence of thoracic scoliosis in asymptomatic adult population, 2014\\nUCLA SPINE SURGERY FELLOWSHIP TRAINEES\\n8/1/2001-7/31/2002\\nRobert Boyce, M.D.\\nPresent position:  Spine Surgeon; Atlanta, Georgia\\nPatrick Suen, M.D.\\nPresent position: Attending Surgeon, Permanente Medical Group, Oakland, California\\n8/1/2002-7/31/2003\\nA. N. Shamie, MD\\nCurriculum Vitae 1/20/16\\nPage 9\\n8/1/2004-7/31/2005\\n8/1/2004-7/31/2005\\n8/1/2003-7/31/2004\\n8/1/2002-7/31/2003\\n8/1/2005-7/31/2006\\n8/1/2005-7/31/2006\\n8/1/2003-7/31/2004\\nThomas Mroz, M.D.\\nPresent position: Associate Professor, Cleveland Clinic, Cleveland, Ohio\\nMukund Gundanna, M.D.\\nPresent position: Attending Surgeon, Private Practice. Dallas, Texas.\\nEric Wieser, M.D.\\nPresent position: Attending Surgeon, Private Practice. Dallas, Texas.\\nKenneth Lee, M.D.\\nPresent position: Attending Surgeon, Private Practice. Dallas, Texas.\\nSteven Lee, M.D.\\nPresent position: Attending Surgeon, Private Practice. Walnut Creek, California\\nThomas Scioscia, M.D.\\nPresent position: Attending Surgeon, Private Practice. West Virginia, Virginia\\nGannon Randolph, M.D.\\nPresent position: Attending Surgeon, Private Practice. Boise, Idaho\\nCorrey Wallach, M.D.\\n8/1/2006-7/31/2007\\nPresent Position: Attending Surgeon, Arlington Orthopaedics. Arlington, VA\\nAndelle Teng, M.D.\\nPresent Position: Attending Surgeon, Cascade Orthopaedics. Auburn, WA\\nJoseph J. Kim, M.D.\\nPresent Position: Attending Surgeon, West End Orthopaedics. Richomond, VA\\nScott Daffner, M.D.\\nPresent Position: Assistant Professor, West Virginia University. Morgantown, VA\\nScottt McGovern, M.D.\\nPresent Position: Attending Surgeon, Peninsula Orthopaedics. Salisbury, MD\\nWinston Fong, M.D.\\nPresent Position: Attending Surgeon, McBride Clinic, Oklahoma City, OK\\nRahul Bashou, M.D.\\nPresent Position: Attending Surgeon, Riverside County Medical Center, CA\\nAlex Gitelman, M.D.\\nPresent Position: Attending Surgeon, Dobbs Ferry, NY\\n8/1/2008-7/31/2009\\n8/1/2008-7/31/2009\\n8/1/2009-7/31/2010\\n8/1/2009-7/31/2010\\n8/1/2006-7/31/2007\\n8/1/2007-7/31/2008\\n8/1/2007-7/31/2008\\nA. N. Shamie, MD\\nCurriculum Vitae 1/20/16\\nPage 10\\n8/1/2010-7/31/2011\\nMark Mikhael, M.D.\\nPresent Position: Attending Surgeon, Chicago, IL\\nChristopher Wolf, M.D.\\nPresent Position: Attending Surgeon,  Seattle, WA\\nBrandon Rebholz, M.D.\\nPresent Position: Attending Surgeon, Milwaukee, WI\\nBeck McAllister, M.D.\\nPresent Position: Attending Surgeon, New Orleans, LA\\nSandeep Gidvani, M.D.\\nPosition Gained: Private Practice, Northern CA\\nBabak Khamsi, M.D.\\nPosition Gained: Private Practice, Riverside, CA\\n8/1/2012-7/31/13\\n8/1/2012-7/31/13\\n8/1/2010-7/31/2011\\n8/1/2011-7/31/2012\\n8/1/2011-7/31/2012\\nPUBLICATIONS\\nPeer Reviewed Journals:\\n1.  Urist, M.R., Behnam, K., Kerendi, F., Raskin, K., Nuygen, T., Shamie, A.N.,\\nMalinin, T. Lipids Closely Associated with Bone Morphogenetic Protein (BMP)\\nAnd Induced Heterotopic Bone Formation: With preliminary observations of\\ndeficiencies in lipid and osteoinduction in lathyrism. Connective Tissue Research\\n36(1): 9-20, 1997.\\n2.  Urist, M. R., Maeda, H., Shamie, A.N., Teplica, D. Endogenous Bone\\nMorphogenetic Protein Expression In Transplants of Urinary Bladder. Plastic and\\nReconstructive Surgery 101(2): 408-415, 1998.\\n3.  Wang JC, Kabo JM, Tsou PM, Halevi L, Shamie AN. The effect of uniform\\nheating on the biomechanical properties of the intervertebral disc in a porcine\\nmodel. Spine J. 2005 Jan-Feb;5(1):64-70.\\n4.  Tsou PM, Wang J, Khoo L, Shamie AN, Holly L.A thoracic and lumbar spine\\ninjury severity classification based on neurologic function grade, spinal canal\\ndeformity, and spinal biomechanical stability. Spine J. 2006 Nov-Dec;6(6):636-\\n47.\\n5.  Lin EL, Lieu V, Halevi L, Shamie AN, Wang JC. Cervical epidural steroid\\ninjections for symptomatic disc herniations. J Spinal Disord Tech. 2006\\nMay;19(3):183-6.\\nA. N. Shamie, MD\\nCurriculum Vitae 1/20/16\\nPage 11\\n6.  Holly LT, Moftakhar P, Khoo LT, Wang JC, Shamie AN. Minimally invasive 2-\\nlevel posterior cervical foraminotomy: preliminary clinical results. J Spinal\\nDisord Tech. 2007 Feb;20(1):20-4.\\n7.  Alanay A, Vyas R, Shamie AN, Sciocia T, Randolph G, Wang JC. Safety and\\nefficacy of implant removal for patients with recurrent back pain after a failed\\ndegenerative lumbar spine surgery. J Spinal Disord Tech. 2007 Jun;20(4):271-7.\\n8.  Alanay A, Wang JC, Shamie AN, Napoli A, Chen C, Tsou P. A novel application\\nof high-dose (50kGy) gamma irradiation for demineralized bone matrix: effects\\non fusion rate in a rat spinal fusion model. Spine J. 2007 August.\\n9.   Holly LT, Moftakhar P, Khoo LT, Shamie AN, Wang JC. Surgical outcomes of\\nelderly patients with cervical spondylotic myelopathy. Surg Neurol. 2008\\nMar;69(3):233-40.\\n10. Kulig K, Beneck GJ, Selkowitz DM, Popovich JM Jr, Ge TT, Flanagan SP,\\nPoppert  EM, Yamada KA, Powers CM, Azen S, Winstein CJ, Gordon J,\\nSamudrala S, Chen TC, Shamie AN, Khoo LT, Spoonamore MJ, Wang JC;\\nPhysical Therapy Clinical Research Network (PTClinResNet). An intensive,\\nprogressive exercise program reduces disability and improves functional\\nperformance in patients after single-level lumbar microdiskectomy. Phys Ther.\\n2009 Nov;89(11):1145-57. Epub 2009 Sep 24.\\n11. Hong SW, Lee SH, Khoo LT, Yoon SH, Holly LT, Shamie AN, Wang JC. A\\nComparison  of fixed-hole and slotted-hole dynamic plates for anterior cervical\\ndiscectomy and fusion. J Spinal Disord Tech. 2010 Feb;23(1):22-6.\\n12. Tsou P, Daffner SD, Holly LT, Shamie AN, Wang JC. A Comprehensive\\nSubaxial Cervical Spine Injury Severity Assessment Model Using Numeric\\nScores and Its Predictive Value for Surgical Intervention. J Neurotrauma. 2011\\nOct 12.\\n13. Mikhael M, Wolf CF, Shamie AN, Wang JC. Minimally Invasive Techniques for\\nthe Posterior Cervical Spine: Foraminal Decompression and Instrumented Fusion.\\nOper Tech Orthop 21:240-244. 2011.\\n14. Tsou PM, Daffner SD, Holly LT, Shamie AN, Wang JC. A comprehensive\\nsubaxial cervical spine injury severity assessment model using numeric scores and\\nits predictive value for surgical intervention. J Neurotrauma. 2012 Feb\\n10;29(3):469-78.\\nProcess Implantation for the Treatment of Neurogenic Intermittent Claudication.\\nAnesth Pain. 2012;2(1):36-41.\\n15. Heyrani N, Picinic Norheim E, Elaine Ku Y, Nick Shamie A. Interspinous\\nA. N. Shamie, MD\\nCurriculum Vitae 1/20/16\\nPage 12\\n16. Smith AG, Capobianco R, Cher D, Rudolf L, Sachs D, Gundanna M, Kleiner J,\\nMody MG, Shamie AN. Open versus minimally invasive sacroiliac joint fusion: a\\nmulti-center comparison of perioperative measures and clinical outcomes. Ann\\nSurg Innov Res. 2013 Oct 30;7(1):14.\\n17. Lugo JP, Saiyed ZM, Lau FC, Molina JP, Pakdaman MN, Shamie AN, Udani JK.\\nUndenatured type II collagen (UC-II(R)) for joint support: a randomized, double-\\nblind, placebo-controlled study in healthy volunteers. J Int Soc Sports Nutr. 2013\\nOct 24;10(1):48.\\n19. Yao Q, Wang JC, Shamie AN, Lord E, Cohen Y, Zheng S, Wei B, Guo Y, Hu W,\\n18. Sachs D, Capobianco R, Cher D, Holt T, Gundanna M, Graven T, Shamie AN,\\nCummings J Jr. One-year outcomes after minimally invasive sacroiliac joint\\nfusion with a series of triangular implants: a multicenter, patient-level analysis.\\nMed Devices (Auckl). 2014 Aug 28;7: 299-304.\\nYan J, Zhang D, Wang L. The effects of a semiconstrained integrated artificial\\ndisc on zygapophyseal joint pressure and displacement. Spine (Phila Pa 1976).\\n2014 Dec 1;39(25):E1510-7.\\n20. Yao Q, Wei B, Liu N, Li C, Guo Y, Shamie AN, Chen J, Cheng T, Jin C, Xu Y,\\nBian X, Zhang X, Wang L. Chondrogenic regeneration using bone marrow clots\\nand a porous polycaprolactone-hydroxyapatite scaffold by 3D printing. Tissue\\nEng Part A. 2014 Dec 20.\\n21. Yao Q, Wei B, Liu N, Li C, Guo Y, Shamie AN, Chen J, Tang C, Jin C, Xu Y,\\nBian X, Zhang X, Wang L. Chondrogenic regeneration using bone marrow clots\\nand a porous polycaprolactone-hydroxyapatite scaffold by three-dimensional\\nprinting. Tissue Eng Part A. 2015 Apr;21(7-8):1388-97.\\nPatellar tendon donor-site healing during six and twelve months after Anterior\\nCruciate Ligament Reconstruction. J Orthop. 2015 Jun 23;12(4):179-83.\\n23. Chen JB, Kim AD, Allan-Blitz L, Shamie AN. Prevalence of thoracic scoliosis in\\nadults 25 to 64 years of age detected during routine chest radiographs. Eur Spine\\nJ. 2015 Sep 2.\\n24. Zhang H, Ajiboye RM, Shamie AN, Wu Q, Chen Q, Chen W. Morphometric\\nmeasurement of the lumbosacral spine for minimally invasive cortical bone\\ntrajectory implant using computed tomography. Eur Spine J. 2015 Sep 5.\\n25. Ajiboye RM, Nelson SD, Shamie AN. Rare case of conus medullaris syndrome\\nfrom a metastatic yolk sac tumor originating from the mediastinum of an adult\\nmale: a case report and review of the literature. Int J Spine Surg. 2015 Nov\\n6;9:59.\\n22. Yazdanshenas H, Madadi F, Madadi F, Washington ER 3rd, Jones K, Shamie AN.\\nA. N. Shamie, MD\\nCurriculum Vitae 1/20/16\\nPage 13\\n26. Shamie, AN, Yazdanshenas, H, Johnson, E. Safety and Efficacy of hBMP: long\\n27. Hamed Shalikar; Sean L Borkowski,; Juan Pablo Villablanca; Sophia N\\nterm followup study. SUBMITTED\\nSangiorgio; Edward Ebramzadeh; Arya Nick Shamie. Laminar Thickness: A\\nPotential Contributing Factor in the Pathogenesis of Lumbar Spinal Stenosis.\\nSUBMITTED\\n1.  Sayler, M and Shamie, AN. The Encyclopedia of the Back and Spine Systems and\\nDisorders. Facts on File NY 2007.\\nText Books:\\nBook Chapters:\\n1.  Shamie, AN, Wang J. Use of allograft material in spine surgery. Orthopaedic\\nKnowledge Update Spine Vol. 3 2006\\n2.  Shamie, AN, Wang J. Complications of iliac bone graft harvest in spine surgery.\\nAAOS Monograph. 2006\\n3.  Shamie, AN, Introduction to Spinal Disorders In. The Encyclopedia of the Back\\nand Spine Systems and Disorders by Mary Harwell Sayler, Editing and Foreword\\nby Arya Nick Shamie, M.D. Library of Health and Living Set, 45-Titles: 46-\\nVolumes\\n4.  Shamie, AN. Minimally Invasive Microdiscectomy In. Advanced Reconstruction:\\n5.  Wolf, C; Shamie, A.N. Interspinous process implants. In: Lumbo-Sacral and\\nSpine. AAOS Educational Series. In Press\\nPelvic Procedures. Edited by Drs. Kim, Vaccaro, Whang, Kim, and Kim.\\n6.  Park, H; Park, D; Shamie, AN. Interspinous process implants. In: Lumbo-Sacral\\nand Pelvic Procedures. Edited by Drs. Kim, Vaccaro, Whang, Kim, and Kim (3rd\\nEd.). IN PRESS\\nInvited Manuscripts:\\n1.  Shamie, A.N. Science Fiction Becomes a Reality: the use of Bone Morphogenetic\\nProtein in Orthopedics. Orthopedics 24(7): 695-697,1999.\\n2.  Shamie AN, Mroz T, Suen P, Wang J. Minimally Invasive Spinal Surgery.\\nOperative Techniques in Orthopaedics, 13 (3): 202-206; 2003\\nA. N. Shamie, MD\\nCurriculum Vitae 1/20/16\\nPage 14\\nAbstracts:\\n3.  Suen P, Mroz T, Shamie AN, Wang J The Role of Laminoplasty in treating\\ncervical myelopathy. Operative Techniques in Orthopaedics, 13 (3): 171-187;\\n2003\\n4.  Mroz T, Suen P, Shamie AN, Wang J Bone Graft Substitutes in Spinal Surgery.\\nOperative Techniques in Orthopaedics, 13 (3): 146-151; 2003\\n1.  Shamie, A.N., Johnson, E.E., Lane, J.M., Finerman, G.A.M., Urist, M.R. Safety\\nAnd Efficacy of Human Bone Morphogenetic Protein (hBMP) In The Treatment\\nOf Resistant Non-Unions And Failed Arthrodeses. Orthopaedic Transactions:\\nJBJS 21:1, 1997.\\n2.  Sandhu, H.S., Kanim, L., Shamie, A.N.,  Lane, J.M., Dawson, E., Urist, M.R.\\nHuman Spinal Fusions with purified Bone Morphogenetic Protein: Short term and\\nten year follow-up. Orthopaedic Transactions: JBJS 21:1, 1997.\\n3.  Shamie AN, Zucherman J, Drzala M, Hsu K, Bailey S, Chang D Roche J. BMP-\\nInduced interbody fusion of rabbit spine. ISSLS, 1999.\\n4.  Ramirez R, Shamie AN, Wang J, Lanman T, Hopkins T, Halevi L. Effectiveness\\nof Laminoplasty for Treating Cervical Myelopathy : A Retrospective Study.\\nSTTP, 2004.\\n5.  Shamie AN, Aboudi S, Khoo L, Wang J. Lumbar Microdiscectomy Comparing\\nMinimally Invasive Tubular Retractors Versus Standard Retractors. NASS 2004.\\n6.  Gamradt S, Hsu W, Mroz T, Luna M, Suen P, Shamie AN, Lieberman J, Wang J.\\nLumbar Pseudarthrosis Model in Athymic Rats. NASS 2004.\\n7.  Shamie AN, Aboudi S, Khoo L, Wang J. Lumbar Microdiscectomy Comparing\\nMinimally Invasive Tubular Retractors Versus Standard Retractors. AAOS 2005.\\n8.  Lalezarian M, Shamie AN, Holly L, Khoo L, Wang J. Comparison of\\nPolyethylethyleneketone (PEEK) material vs. Allograft material in Single Level\\nLumbar Interbody Fusion. STTP 2005.\\n9.  Wang J, Shamie AN, Napoli A. A comparison of the osteoinductive ability of\\nallograft bone after treatment with a novel radiation technique versus peroxide in\\na rodent spinal fusion model. NASS 2005.\\n10. Shamie AN, Tsou P, Napoli A, Wang J. The Efficacy Of A Novel Commercially\\nAvailable Demineralized Bone Matrix Substance In An Athymic Rat Model.\\nIMAST 2006.\\nA. N. Shamie, MD\\nCurriculum Vitae 1/20/16\\nPage 15\\n11. Shamie AN, Tsou P, Napoli A, Wang J. The Efficacy Of A Novel Commercially\\nAvailable Demineralized Bone Matrix Substance In An Athymic Rat Model.\\nAAOS 2006.\\n12. Scioscia T, Randolph G, Shamie AN, Wang J. The Relationship of Smoking to\\nNeed for Subsequent Arthrodesis after Lumbar Discectomy. NASS 2006.\\n13. Lam Sandi, Khoo L, Holly L, Wang J, Shamie AN. A long-term clinical outcome\\nanalysis of minimally invasive cervical foraminotomy for the treatment of\\ncervical radiculopathy. Spine Across the Sea 2006.\\n14. Cooke S, Rogozinski C, Rogozinski D, Shamie AN, Schneider P. Lumbar Spine\\nMotion Before and After Posterior Insertion of a Lumbar Disc Replacement. SAS\\n2007.\\n15. Shamie AN. A Safe Technique For Fixation Of The C2 Vertebrae: The\\nIntralaminar Screw. AANS 2007.\\n16. Shamie AN. A Safe Technique For Fixation Of The C2 Vertebrae: The\\nIntralaminar Screw. ACSS 2007.\\n17. Shamie AN. A Safe Technique For Fixation Of The C2 Vertebrae: The\\nIntralaminar Screw. AAOS, San Francisco, CA 2007.\\nINTERNATIONAL PRESENTATIONS\\nUse of BMP in Spine Surgery. Instituto Orthopedico Galeazzi, Milan, Italy. February 1,\\n2003.\\nShamie AN, Tsou P, Napoli A, Wang J. The Efficacy Of A Novel Commercially\\nAvailable Demineralized Bone Matrix Substance In An Athymic Rat Model. IMAST\\n2006.\\nShamie AN Use of Reduction Techniques for treatment of rigid scoliosis. Spine Summit.\\nGene, France 2008.\\nShamie AN, Minimally Invasive Cervical Spine Surgery, Spine Society Meeting,\\nZhejiang University, Hangzhou, CHINA, 2012\\nShamie, AN Minimally Invasive Spinal Surgery. Keynote speaker. Saudi Orthopaedic\\nSurgery Board of Examiners meeting. Jeddah, Saudi Arabia 2014\\nShamie, AN. Avoiding Complications in Spine Surgery, Zhejiang Province Orthopaedic\\nConference, Zhejiang, China, 2015\\nA. N. Shamie, MD\\nCurriculum Vitae 1/20/16\\nPage 16\\nNATIONAL PRESENTATIONS\\nShamie, AN. Laminar Thickness in Lumbar Stenosis, Zhejiang Province Orthopaedic\\nConference, Zhejiang, China, 2015\\nShamie, A.N., Johnson, E.E., Lane, J.M., Finerman, G.A.M., Urist, M.R. Safety And\\nEfficacy of Human Bone Morphogenetic Protein (hBMP) In The Treatment Of Resistant\\nNon-Unions And Failed Arthrodeses. Abstract presented at the Hospital of Special\\nSurgery Alumni Day Meeting, New York, NY, 1996.\\nSandhu, H.S., Kanim, L., Shamie, A.N.,  Lane, J.M., Dawson, E., Urist, M.R. Human\\nSpinal Fusions with purified Bone Morphogenetic Protein: Short term and ten year\\nfollow-up. Poster presented at the AAOS 1997 Annual Meeting.\\nSandhu, H.S., Kanim, L., Shamie, A.N.,  Lane, J.M., Dawson, E., Urist, M.R. Human\\nSpinal Fusions with purified Bone Morphogenetic Protein: Short term and ten year\\nfollow-up. Abstract presented at the AAOS 1997 Annual Meeting.\\nShamie, A.N., Johnson, E.E., Lane, J.M., Finerman, G.A.M., Urist, M.R. Safety And\\nEfficacy of Human Bone Morphogenetic Protein (hBMP) In The Treatment Of Resistant\\nNon-Unions And Failed Arthrodeses. Abstract presented at the AAOS 1997 Annual\\nMeeting.\\nShamie, A.N., Johnson, E.E., Finerman, G.A.M., Urist, M.R. Human Bone\\nMorphogenetic Protein (hBMP) In The Treatment Of Resistant Non-Unions. Abstract\\npresented at the Research\\nShamie, A.N. Surgical Treatment of Neck and Back Pain. UCLA Educational Seminars;\\nSanta Monica, CA. September 24, 2001.Day, St. Mary's Medical Center, 1997.\\nShamie, A.N., Johnson, E.E., Finerman, G.A.M. The UCLA experience: Human Bone\\nMorphogenetic Protein (hBMP) In The Treatment Of Resistant Non-Unions. Abstract\\npresented at the International BMP Conference, Sacramento, CA, 1997.\\nShamie, A.N. BMP: Current Concepts and Developments. St. Marys Spine Center, San\\nFrancisco, CA, Dec 1997.\\nShamie, A.N., Zucherman, J., Drzala, M., Bailey, S., Hsu, K., Chang, D. BMP-Induced\\nInterbody Fusion Model in Rabbits. Abstract presented at the Research Day, St. Mary's\\nMedical Center, San Francisco, CA, 1998.\\nShamie, A.N. Vertebral Compression Fractures: Vertebroplasty and Kyphoplasty. Grand\\nRounds, UCLA Department of Orthopaedic Surgery. 2001.\\nShamie, A.N. New and Future Technologies in Spinal Surgery. Management of\\nWorkplace Spinal Injuries; Orthopaedic Hospital, Los Angeles. September 28, 2001.\\nA. N. Shamie, MD\\nCurriculum Vitae 1/20/16\\nPage 17\\nShamie, A.N. AO Principles Related to Spine Surgery. AO Basic Spine Course; Los\\nAngeles. Oct. 6, 2001.\\nShamie, A.N. Diagnosis and Treatment of Spinal Disorders. UCLA Symposium: Update\\non the treatment of spinal disorders; Lancaster, CA. June 12, 2002.\\nShamie, A.N. Current Principles of Anterior Cervical Plate Fixation. Depuy Cadaver\\nCourse, UCLA. July 2002\\nShamie, A.N. Anterior Lumbar Fusion techniques. Depuy Cadaver Course, UCLA. July\\n2002\\nShamie, A.N. The biology of bone graft incorporation. Musculoskeletal Transplant\\nFoundation course, Santa Monica, CA. July 2002\\nShamie, A.N. Rheumatology Grand Rounds: Vertebral Compression Fractures and\\nminimally invasive surgical treatments; Los Angeles, CA. September 2002.\\nShamie, A.N. UCLA Symposium: Update on the treatment of spinal disorders; Ventura,\\nCA. November 2002.\\nShamie, A.N. AO Advanced Spine Course: Anterior Lumbar Interbody Fusion; Las\\nVegas, Nevada. March 2003\\nShamie, A.N. AO Degenerative Spine Course: Cervical Myelopathy. Coronado, CA. July\\n2003.\\nShamie, A.N. AO Degenerative Spine Course: Cervical disc herniation and\\nradiculopathy. Coronado, CA. July 2003.\\nShamie, A.N. AO Degenerative Spine Course: Posterior cervical microforaminotomy.\\nCoronado, CA. July 2003.\\nShamie, A.N. AO Degenerative Spine Course: Indications of fusion for lumbar\\ndegenerative disc disease. Coronado, CA. July 2003.\\nShamie, A. N. Annual Spine Symposium (EBI): Circumferential Lumbar Fusion; New\\nYork, NY. December 2003.\\nShamie, A.N. Dawson Memorial Lectureship (EBI): Management of Vertebral\\nCompression Fractures; Las Vegas, NV. April 2004.\\nShamie, A. N. AO Spine Course: Evaluation and treatment of degenerative disc disease.\\nCharleston, NC. May 2004.\\nShamie, A.N. AO Spine Course: History of AO. Charleston, NC. May 2004.\\nA. N. Shamie, MD\\nCurriculum Vitae 1/20/16\\nPage 18\\nShamie, A. N. Kyphon Fellows Course. The minimally invasive correction of\\ncompression fractures, Kyphoplasty. Irvine, CA. August 2004.\\nShamie, A.N. Centers of Excellence Lectureship (EBI): Efficacy of the Vu-Pass\\ninstrumentation in minimally invasive spine surgery. Santa Monica, CA. September\\n2004.\\nShamie, A.N., Aboudi, S, Khoo, L, Wang, J. Microdiscectomy comparing the classic\\napproach versus the new tubular retractors. NASS, Chicago, IL. October 2004.\\nS. Gamradt, W. Hsu, T. Mroz, M. Luna, P. Suen, N. Shamie, J. Lieberman, J. Wang\\nLumbar Pseudarthrosis Model In Athymic Rats. NASS, Chicago, IL. October 2004.\\nShamie AN, Aboudi S, Khoo L, Wang J. Lumbar Microdiscectomy Comparing\\nMinimally Invasive Tubular Retractors Versus Standard Retractors. AAOS 2005.\\nLalezarian M, Shamie AN, Holly L, Khoo L, Wang J. Comparison of\\nPolyethylethyleneketone (PEEK) material vs. Allograft material in Single Level Lumbar\\nInterbody Fusion. STTP 2005.\\nWang J, Shamie AN, Napoli A. A comparison of the osteoinductive ability of allograft\\nbone after treatment with a novel radiation technique versus peroxide in a rodent spinal\\nfusion model. NASS 2005.\\nShamie AN, Tsou P, Napoli A, Wang J. The Efficacy Of A Novel Commercially\\nAvailable Demineralized Bone Matrix Substance In An Athymic Rat Model. IMAST\\n2006.\\nShamie AN, Tsou P, Napoli A, Wang J. The Efficacy Of A Novel Commercially\\nAvailable Demineralized Bone Matrix Substance In An Athymic Rat Model. AAOS\\n2006.\\nScioscia T, Randolph G, Shamie AN, Wang J. The Relationship of Smoking to Need for\\nSubsequent Arthrodesis after Lumbar Discectomy. NASS 2006.\\nLam Sandi, Khoo L, Holly L, Wang J, Shamie AN. A long-term clinical outcome\\nanalysis of minimally invasive cervical foraminotomy for the treatment of cervical\\nradiculopathy. Spine Across the Sea 2006.\\nShamie AN. Interspinous Device Implantation for the Treatment of Intermittent\\nNeurogenic Claudication.  Seattle 2006\\nCooke S, Rogozinski C, Rogozinski D, Shamie AN, Schneider P. Lumbar Spine Motion\\nBefore and After Posterior Insertion of a Lumbar Disc Replacement. SAS 2007.\\nA. N. Shamie, MD\\nCurriculum Vitae 1/20/16\\nPage 19\\nShamie AN. A Safe Technique For Fixation Of The C2 Vertebrae: The Intralaminar\\nScrew. AANS 2007.\\nShamie AN. Interspinous Device Implantation for the Treatment of Intermittent\\nNeurogenic Claudication.  Beverly Hills, CA 2007\\nShamie AN. A Safe Technique For Fixation Of The C2 Vertebrae: The Intralaminar\\nScrew. Am. Col. Spine Surgery 2007.\\nShamie AN. Interspinous Device Implantation for the Treatment of Intermittent\\nNeurogenic Claudication.  Houston, TX 2007.\\nShamie AN. A Safe Technique For Fixation Of The C2 Vertebrae: The Intralaminar\\nScrew. Am. Academy of Orthopaedic Surgery. San Francisco, CA 2008.\\nTsou PM, Wang J, Shamie AN, Khoo L, Holly L.A cervical injury severity classification\\nbased on neurologic function grade, spinal canal deformity, and spinal biomechanical\\nstability. CSRS 2009\\nYazdanshenas, H., AN. Shamie, K. Azari. Treatment And Post-Surgery Functional\\nOutcome Of Spaghetti Wrist. Western Orthopaedic Association Annual Meeting 2015.\\nYazdanshenas, H., AN. Shamie, ER. Washington. Outcome Of Hip Fracture Care In\\nElderly Patients in A Senior Managed Care System. Western Orthopaedic Association\\nAnnual Meeting 2015.\\nYazdanshenas, H., AN. Shamie. Long-Term Safety And Efficacy Of Human Bone\\nMorphogenetic Protein (hBMP) In The Treatment  Of Resistant Non-Unions And Failed\\nArthrodesis. Western Orthopaedic Association Annual Meeting 2015.\\nTV and Radio Appearances\\nMedical Section Fox News LA\\nDiscussed a novel treatment option for spinal stenosis\\nAired July 2008\\nhttp://www.myfoxla.com/dpp/story/Living_with_Back_and_Leg_Pain_20080725\\nModern Marvels History Channel\\nPresented various aspects of spine surgery\\nBeing aired on a rotating schedule\\nBone and Joint Health Pointers ABC Station, Rochester, MN\\nDiscussed ways to maintain bone and joint health.\\nAired  April 2009\\nhttp://www.youtube.com/watch?v=j218rxZ63s4&feature=channel\\nA. N. Shamie, MD\\nCurriculum Vitae 1/20/16\\nPage 20\\nCritical Condition PBS Documentary on medically indigent care in the US\\nPerformed a complex spinal deformity surgery pro bono at UCLA\\nAired nationally on PBS, September 2008 and\\nPaul Moyer Show August 2009\\nhttp://www.pbs.org/pov/criticalcondition/\\nBack Pain: Types and Treatments\\nGuest Speaker on a Q&A segment on back pain.\\nPublic Radio, Airtalk, 89.3 KPCC, January 14, 2010\\nhttp://www.scpr.org/programs/airtalk/2010/01/14/back-pain-types-and-treatments/\\nNovel Treatments for lumbar spinal stenosis\\nThe Doctors TV show.\\nCBS, Broadcasted Nationally, Feb 2012\\nLive Surgical Telecast\\nSoCal Orthopaedic Educational Network > Multi-national viewership\\nNLM and US Dept. of Treasury Approved event, March 2014\\nMISCELLANEOUS/COMMUNITY SERVICE\\nIRTV International Broadcast- Live Q&A, Spinal Disorders, November 2001.\\nUCLA Vital Signs Publication- Use of BMP in Spinal Fusion Surgery, January 2003\\nUCLA Vital Signs Publication- Kyphoplasty in the Treatment of Spinal Fractures,\\nJanuary 2003.\\nBoard of Directors, Brentwood Homeowners Association, Oct 2003- present.\\nAlternate member, Board of Directors, Brentwood Community Council (BCC), 1/06-4/07\\nBHA Representative, Board of Directors, Brentwood Community Council, 4/07-4/08\\nLA Marathon, Medical Team Volunteer, March 2011\\nHeal the Bay, Santa Monica Bay Clean up, September 2013\\nTeen Cancer America, medical liaison, August 2014.\""
      ]
     },
     "execution_count": 266,
     "metadata": {},
     "output_type": "execute_result"
    }
   ],
   "source": [
    "f"
   ]
  },
  {
   "cell_type": "markdown",
   "metadata": {},
   "source": [
    "### Readbility"
   ]
  },
  {
   "cell_type": "code",
   "execution_count": 315,
   "metadata": {},
   "outputs": [],
   "source": [
    "import textstat"
   ]
  },
  {
   "cell_type": "code",
   "execution_count": 316,
   "metadata": {},
   "outputs": [],
   "source": [
    "def readability(text):\n",
    "    \"\"\"\n",
    "    Provides the readability grade for the text. Here we are using the\n",
    "    flesch reading ease score. Higher the score, easier to read\n",
    "\n",
    "    text: input text on which score has to be calculated\n",
    "    \"\"\"\n",
    "    score = textstat.flesch_reading_ease(text)\n",
    "    grade = round(textstat.flesch_kincaid_grade(text))\n",
    "\n",
    "    if score > 90:\n",
    "        summary = \"Very easy to read. Easily understood by an average 11-year-old student; \"\n",
    "    elif score > 80:\n",
    "        summary = \"Easy to read. Conversational English for consumers\"\n",
    "    elif score > 70:\n",
    "        summary = \"Fairly easy to read\"\n",
    "    elif score > 60:\n",
    "        summary = \"Plain English. Easily understood by 13- to 15-year-old students.\"\n",
    "    elif score > 50:\n",
    "        summary = \"Fairly difficult to read.\"\n",
    "    elif score > 30:\n",
    "        summary = \"Difficult to read\"\n",
    "    else:\n",
    "        summary = \"Very difficult to read. Best understood by university graduates.\"\n",
    "\n",
    "    return score, summary, grade"
   ]
  },
  {
   "cell_type": "code",
   "execution_count": 328,
   "metadata": {},
   "outputs": [],
   "source": [
    "f = preprocess(convertPDFToText(\"resume_trail1.pdf\"))"
   ]
  },
  {
   "cell_type": "code",
   "execution_count": 329,
   "metadata": {},
   "outputs": [
    {
     "data": {
      "text/plain": [
       "(-49.4, 'Very difficult to read. Best understood by university graduates.', 33)"
      ]
     },
     "execution_count": 329,
     "metadata": {},
     "output_type": "execute_result"
    }
   ],
   "source": [
    "readability(f)"
   ]
  },
  {
   "cell_type": "code",
   "execution_count": 330,
   "metadata": {},
   "outputs": [
    {
     "data": {
      "text/plain": [
       "24.2"
      ]
     },
     "execution_count": 330,
     "metadata": {},
     "output_type": "execute_result"
    }
   ],
   "source": [
    "textstat.smog_index(f)"
   ]
  },
  {
   "cell_type": "code",
   "execution_count": null,
   "metadata": {},
   "outputs": [],
   "source": []
  }
 ],
 "metadata": {
  "kernelspec": {
   "display_name": "Python 3",
   "language": "python",
   "name": "python3"
  },
  "language_info": {
   "codemirror_mode": {
    "name": "ipython",
    "version": 3
   },
   "file_extension": ".py",
   "mimetype": "text/x-python",
   "name": "python",
   "nbconvert_exporter": "python",
   "pygments_lexer": "ipython3",
   "version": "3.6.8"
  }
 },
 "nbformat": 4,
 "nbformat_minor": 2
}
