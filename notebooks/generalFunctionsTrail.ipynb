{
 "cells": [
  {
   "cell_type": "code",
   "execution_count": 4,
   "metadata": {},
   "outputs": [],
   "source": [
    "# Importing libraries\n",
    "import sys\n",
    "import os\n",
    "import re\n",
    "import pyap\n",
    "from pdfminer.pdfinterp import PDFResourceManager, PDFPageInterpreter\n",
    "from pdfminer.converter import TextConverter\n",
    "from pdfminer.layout import LAParams\n",
    "from pdfminer.pdfpage import PDFPage\n",
    "from io import StringIO"
   ]
  },
  {
   "cell_type": "code",
   "execution_count": 18,
   "metadata": {},
   "outputs": [],
   "source": [
    "def convertPDFToText(path):\n",
    "    \"\"\"\n",
    "    This function converts pdf to text\n",
    "\n",
    "    path: path of the file to be converted\n",
    "    \"\"\"\n",
    "    fp = open(path, 'rb')\n",
    "    rsrcmgr = PDFResourceManager()\n",
    "    retstr = StringIO()\n",
    "    codec = 'ascii'\n",
    "    laparams = LAParams()\n",
    "    device = TextConverter(rsrcmgr, retstr, laparams=laparams)\n",
    "    # Create a PDF interpreter object.\n",
    "    interpreter = PDFPageInterpreter(rsrcmgr, device)\n",
    "    # Process each page contained in the document.\n",
    "\n",
    "    for page in PDFPage.get_pages(fp):\n",
    "        interpreter.process_page(page)\n",
    "        data =  retstr.getvalue()\n",
    "\n",
    "    return data"
   ]
  },
  {
   "cell_type": "code",
   "execution_count": 29,
   "metadata": {},
   "outputs": [],
   "source": [
    "a = convertPDFToText(\"resume_trail1.pdf\")"
   ]
  },
  {
   "cell_type": "code",
   "execution_count": 22,
   "metadata": {},
   "outputs": [],
   "source": [
    "import string"
   ]
  },
  {
   "cell_type": "code",
   "execution_count": 20,
   "metadata": {},
   "outputs": [],
   "source": [
    "def preprocess(f):\n",
    "    return \"\\n\".join([el.strip() for el in f.split(\"\\n\") if len(el.strip()) > 1])"
   ]
  },
  {
   "cell_type": "code",
   "execution_count": 25,
   "metadata": {},
   "outputs": [],
   "source": [
    "printable = set(string.printable)\n",
    "a = filter(lambda x: x in printable, a)"
   ]
  },
  {
   "cell_type": "code",
   "execution_count": 33,
   "metadata": {
    "collapsed": true
   },
   "outputs": [
    {
     "data": {
      "text/plain": [
       "'Managing Partner and Program Manager/Engineer\\nErick B. Knezek\\nEducation\\n\\uf0a7  B.S., Ocean Engineering, United\\nStates Naval Academy, 1996\\n\\uf0a7  M.S., Ocean Engineering, Texas A\\n& M, 1997\\nYears of Experience - 18\\nProfessional Engineer\\nMaryland,\\nQualified Navy Deep Sea Diver\\nand Dive Supervisor\\nRELEVANT EXPERIENCE\\nMr.  Knezek  has  more  than  18  years  of  program/technical\\nmanagement,  civil  and  ocean  engineering,  and  construction\\nexperience.  He  has  managed  numerous  projects  over  the  past  14\\nyears  while  executing  engineering  projects  worldwide  including\\nmanagement of pier design, installation and repair projects.  Erick\\nhas  been\\nthe  planning,  program  policy\\ndevelopment,\\nfinancial  management,  manpower  allocation,\\nlogistics,  and  technical  management  of  construction  activities  at\\nfacilities worldwide.\\nresponsible\\nfor\\nMr.  Knezek  is  a  former  US  Navy  Civil  Engineer  Corps  Officer.\\nThat  along  with  his  background  as  a  Professional  Engineer  and\\ngive him the expertise to understand the complex issues that may\\narise.    Erick’s  professional  competence  and  expertise  has  been\\nrecognized  by  the  highly  competitive  Louisiana  oil  and  gas\\nindustry  where  he  featured  as  one  of  five  “Top  Young  Stars  to\\nWatch in the Oil and Gas Industry” in October 2013 by the Daily\\nAdvertiser.\\nProgram  Manager,  Truston  Technologies  Ocean  Facilities  Support  Services  Multiple\\nAward  Contract  –  N62583-09-D-0065  (2009-present)  -  $250M  -  Erick  is  Program\\nManager for this 5 year IDIQ contract with the Navy. The multiple specialty areas including\\nwaterfront  DLA/Navy  Petroleum  Handling  Facilities,  Underwater  Fuel  Pipelines,  SBM\\nFueling  offload  buoys,  Specialized  Moorings,  Ocean  Energy  and  Marine  Power  Systems,\\nUnderwater Cable Facilities and Shore Landings, and Magnetic Silencing Facilities.  Specific\\nProjects  included  the  inspection  and  repairs  of  the  Tengan  Petroleum  Handling  Facility  in\\nOkinawa. This project included the Pipe Line End Manifold system API design, fabrication,\\nand  installation,  submarine  hose  string  procurement  as  well  as  pipeline  inspection  and\\ntesting.  Also  included  was  the  Wake  Island  DLA  Fuel  System  Upgrades.  This  showcased\\nErick’s  deep  understanding  of  the  complex  logistics  involved  in  remote  POL  projects  as\\nTruston  transported  material  and  equipment  from  Guam  by  barge  and  an  aircraft  from\\nHawaii coordinating their simultaneous arrival.\\nProgram  Manager,  Truston  Technologies  Waterfront  Barriers  Support  Services\\nMultiple  Award  Contract  –  N62583-10-D-0341  (2010-present)  –  $150M  -  Program\\nManager  for  this  NAVFAC  EXWC  IDIQ  contract  awarded  in  2009.    The  work  involved\\nincluded the steel and composite fabrication, installation, maintenance, repair, modifications\\nand  upgrades  to  Security  Barrier  Systems  worldwide.    In  particular,  Erick  successfully\\nexecuted complex logistical projects at dozens of Naval facilities throughout the world with\\nmany projects running simultaneously and requiring significant coordination between EXWC\\ncontracts  and  NTR  personnel,  as  well  as  local  FEAD/ROICC  customers.    His  keen\\nunderstanding  of  managing  the  dual  customer  relationship  of  EXWC  and  local  base\\npersonnel resulted in successful project execution.\\nProgram  Manager,  Truston  Technologies  Marine  Services-  N62583-08-D-0056  (2008-\\n2010) – $3.5M -  Program Manager for this NAVFAC EXWC IDIQ contract which included\\nPage No. 1\\nManaging Partner and Program Manager/Engineer\\nErick B. Knezek\\na  variety  of  sustainment,  inspection  and  repairs  to  marine  facilities  and  fuel  and  barrier\\nsystems  throughout  the  world.    Erick  managed  the  Offshore  Petroleum  Discharge  System\\nSingle  Point  Fuel  Mooring  System  maintenance  in  Masirah,  Oman.    As  a  former  Navy\\nSeabee  and  Dive  Officer,  he  understood  the  overall  process  for  the  underwater  repairs  and\\nfuel  line  connections  and  guided  the  inspection  and  testing  of  the  fuel  lines  once  installed\\nusing equipment sourced from a Louisiana based oil and gas service company.  He provided\\nleadership  in  other  projects  including  inspection  and  repair  services  in  WA,  TX,  PA,  GA;\\nGaeta, Italy, Okinawa, Japan; and Souda Bay, Crete.\\nProgram Manager, Truston Technologies - N68711-05-D-0018 - (2005-2008) - $15M/Yr\\n- In this repair and sustainment contract, Erick led efforts to maintain barrier systems at US\\nNaval  facilities throughout  the world.   Of technical  relevance were fabrication and welding\\nof  steel  components,  coating  repairs,  and  cathodic  protection  to  the  barriers  structures  and\\npontoons.\\nProgram Manager, ITA Industrial – Floating Barriers and Ocean Engineering Support\\nServices  Multiple  Award  Contract  N47408-02-D-8312  -  (2002-2003)  -  $15M/Yr  -  This\\nhigh  tempo  contract  involved  the  expedient  fabrication  and  installation  of  floating  steel\\nstructures and buoys during a continued wartime effort to harden and protect all major Naval\\nports around the globe and engineering services to naval waterfront facilities.\\nU.S. Navy Civil Engineer Corps Officer, NAVFAC – Military Operations and Multiple\\nContracts  (1996-2002)  Erick served as Basic Dive Officer and AROICC/NTR at NFEXC\\nproviding  specialty  engineering  services,  and  offshore  and  terrestrial  Petroleum  Discharge\\nSystem services to the U.S. Navy from 2000-2002.  Erick also served at a Seabee officer in\\nNMCB-133 including serving in the Stabilization Force in Bosnia, 1998, and NAS Lemoore\\nin 1999.\\nPage No. 2'"
      ]
     },
     "execution_count": 33,
     "metadata": {},
     "output_type": "execute_result"
    }
   ],
   "source": [
    "preprocess(a)"
   ]
  },
  {
   "cell_type": "code",
   "execution_count": 32,
   "metadata": {
    "collapsed": true
   },
   "outputs": [
    {
     "data": {
      "text/plain": [
       "'Managing Partner and Program Manager/Engineer\\nErick B. Knezek\\nEducation\\n  B.S., Ocean Engineering, United\\nStates Naval Academy, 1996\\n  M.S., Ocean Engineering, Texas A\\n& M, 1997\\nYears of Experience - 18\\nProfessional Engineer\\nMaryland,\\nQualified Navy Deep Sea Diver\\nand Dive Supervisor\\nRELEVANT EXPERIENCE\\nMr.  Knezek  has  more  than  18  years  of  program/technical\\nmanagement,  civil  and  ocean  engineering,  and  construction\\nexperience.  He  has  managed  numerous  projects  over  the  past  14\\nyears  while  executing  engineering  projects  worldwide  including\\nmanagement of pier design, installation and repair projects.  Erick\\nhas  been\\nthe  planning,  program  policy\\ndevelopment,\\nfinancial  management,  manpower  allocation,\\nlogistics,  and  technical  management  of  construction  activities  at\\nfacilities worldwide.\\nresponsible\\nfor\\nMr.  Knezek  is  a  former  US  Navy  Civil  Engineer  Corps  Officer.\\nThat  along  with  his  background  as  a  Professional  Engineer  and\\ngive him the expertise to understand the complex issues that may\\narise.    Ericks  professional  competence  and  expertise  has  been\\nrecognized  by  the  highly  competitive  Louisiana  oil  and  gas\\nindustry  where  he  featured  as  one  of  five  Top  Young  Stars  to\\nWatch in the Oil and Gas Industry in October 2013 by the Daily\\nAdvertiser.\\nProgram  Manager,  Truston  Technologies  Ocean  Facilities  Support  Services  Multiple\\nAward  Contract    N62583-09-D-0065  (2009-present)  -  $250M  -  Erick  is  Program\\nManager for this 5 year IDIQ contract with the Navy. The multiple specialty areas including\\nwaterfront  DLA/Navy  Petroleum  Handling  Facilities,  Underwater  Fuel  Pipelines,  SBM\\nFueling  offload  buoys,  Specialized  Moorings,  Ocean  Energy  and  Marine  Power  Systems,\\nUnderwater Cable Facilities and Shore Landings, and Magnetic Silencing Facilities.  Specific\\nProjects  included  the  inspection  and  repairs  of  the  Tengan  Petroleum  Handling  Facility  in\\nOkinawa. This project included the Pipe Line End Manifold system API design, fabrication,\\nand  installation,  submarine  hose  string  procurement  as  well  as  pipeline  inspection  and\\ntesting.  Also  included  was  the  Wake  Island  DLA  Fuel  System  Upgrades.  This  showcased\\nEricks  deep  understanding  of  the  complex  logistics  involved  in  remote  POL  projects  as\\nTruston  transported  material  and  equipment  from  Guam  by  barge  and  an  aircraft  from\\nHawaii coordinating their simultaneous arrival.\\nProgram  Manager,  Truston  Technologies  Waterfront  Barriers  Support  Services\\nMultiple  Award  Contract    N62583-10-D-0341  (2010-present)    $150M  -  Program\\nManager  for  this  NAVFAC  EXWC  IDIQ  contract  awarded  in  2009.    The  work  involved\\nincluded the steel and composite fabrication, installation, maintenance, repair, modifications\\nand  upgrades  to  Security  Barrier  Systems  worldwide.    In  particular,  Erick  successfully\\nexecuted complex logistical projects at dozens of Naval facilities throughout the world with\\nmany projects running simultaneously and requiring significant coordination between EXWC\\ncontracts  and  NTR  personnel,  as  well  as  local  FEAD/ROICC  customers.    His  keen\\nunderstanding  of  managing  the  dual  customer  relationship  of  EXWC  and  local  base\\npersonnel resulted in successful project execution.\\nProgram  Manager,  Truston  Technologies  Marine  Services-  N62583-08-D-0056  (2008-\\n2010)  $3.5M -  Program Manager for this NAVFAC EXWC IDIQ contract which included\\nPage No. 1\\nManaging Partner and Program Manager/Engineer\\nErick B. Knezek\\na  variety  of  sustainment,  inspection  and  repairs  to  marine  facilities  and  fuel  and  barrier\\nsystems  throughout  the  world.    Erick  managed  the  Offshore  Petroleum  Discharge  System\\nSingle  Point  Fuel  Mooring  System  maintenance  in  Masirah,  Oman.    As  a  former  Navy\\nSeabee  and  Dive  Officer,  he  understood  the  overall  process  for  the  underwater  repairs  and\\nfuel  line  connections  and  guided  the  inspection  and  testing  of  the  fuel  lines  once  installed\\nusing equipment sourced from a Louisiana based oil and gas service company.  He provided\\nleadership  in  other  projects  including  inspection  and  repair  services  in  WA,  TX,  PA,  GA;\\nGaeta, Italy, Okinawa, Japan; and Souda Bay, Crete.\\nProgram Manager, Truston Technologies - N68711-05-D-0018 - (2005-2008) - $15M/Yr\\n- In this repair and sustainment contract, Erick led efforts to maintain barrier systems at US\\nNaval  facilities throughout  the world.   Of technical  relevance were fabrication and welding\\nof  steel  components,  coating  repairs,  and  cathodic  protection  to  the  barriers  structures  and\\npontoons.\\nProgram Manager, ITA Industrial  Floating Barriers and Ocean Engineering Support\\nServices  Multiple  Award  Contract  N47408-02-D-8312  -  (2002-2003)  -  $15M/Yr  -  This\\nhigh  tempo  contract  involved  the  expedient  fabrication  and  installation  of  floating  steel\\nstructures and buoys during a continued wartime effort to harden and protect all major Naval\\nports around the globe and engineering services to naval waterfront facilities.\\nU.S. Navy Civil Engineer Corps Officer, NAVFAC  Military Operations and Multiple\\nContracts  (1996-2002)  Erick served as Basic Dive Officer and AROICC/NTR at NFEXC\\nproviding  specialty  engineering  services,  and  offshore  and  terrestrial  Petroleum  Discharge\\nSystem services to the U.S. Navy from 2000-2002.  Erick also served at a Seabee officer in\\nNMCB-133 including serving in the Stabilization Force in Bosnia, 1998, and NAS Lemoore\\nin 1999.\\nPage No. 2'"
      ]
     },
     "execution_count": 32,
     "metadata": {},
     "output_type": "execute_result"
    }
   ],
   "source": [
    "re.sub(r'[^\\x00-\\x7f]', \"\", preprocess(a))"
   ]
  },
  {
   "cell_type": "code",
   "execution_count": null,
   "metadata": {},
   "outputs": [],
   "source": [
    "def preprocess(document):\n",
    "        \"\"\"\n",
    "        This function preprocess the document and removes all the noise\n",
    "        \n",
    "        \n",
    "        \"\"\"\n",
    "        return re.sub(r'[^\\x00-\\x7f]',\"\",\"\\n\".join([el.strip() for el in f.split(\"\\n\") if len(el.strip()) > 1]))\n",
    "        # Newlines are one element of structure in the data\n",
    "        # Helps limit the context and breaks up the data as is intended in resumes - i.e., into points\n",
    "        lines = [el.strip() for el in document.split(\"\\n\") if len(el) > 0]  # Splitting on the basis of newlines \n",
    "        lines = [nltk.word_tokenize(el) for el in lines]    # Tokenize the individual lines\n",
    "        lines = [nltk.pos_tag(el) for el in lines]  # Tag them\n",
    "        # Below approach is slightly different because it splits sentences not just on the basis of newlines, but also full stops \n",
    "        # - (barring abbreviations etc.)\n",
    "        # But it fails miserably at predicting names, so currently using it only for tokenization of the whole document\n",
    "        sentences = nltk.sent_tokenize(document)    # Split/Tokenize into sentences (List of strings)\n",
    "        sentences = [nltk.word_tokenize(sent) for sent in sentences]    # Split/Tokenize sentences into words (List of lists of strings)\n",
    "        tokens = sentences\n",
    "        sentences = [nltk.pos_tag(sent) for sent in sentences]    # Tag the tokens - list of lists of tuples - each tuple is (<word>, <tag>)\n",
    "        # Next 4 lines convert tokens from a list of list of strings to a list of strings; basically stitches them together\n",
    "        dummy = []\n",
    "        for el in tokens:\n",
    "            dummy += el\n",
    "        tokens = dummy\n",
    "        # tokens - words extracted from the doc, lines - split only based on newlines (may have more than one sentence)\n",
    "        # sentences - split on the basis of rules of grammar\n",
    "        return tokens, lines, sentences"
   ]
  },
  {
   "cell_type": "code",
   "execution_count": 68,
   "metadata": {},
   "outputs": [],
   "source": [
    "def Name(text):\n",
    "    \"\"\"\n",
    "    This function gives the names from the given text\n",
    "        \n",
    "    text: Text from which names has to be extracted\n",
    "    \"\"\"\n",
    "    Names = open(\"first_names.txt\", \"r\").read().lower()\n",
    "    # Lookup in a set is much faster\n",
    "    Names = set(Names.split(\"\\n\"))\n",
    "    otherNameHits = []\n",
    "    nameHits = []\n",
    "    name = None\n",
    "    lines = [el.strip() for el in text.split(\"\\n\") if len(el) > 0]\n",
    "    lines = [nltk.word_tokenize(el) for el in lines]\n",
    "    tokens = lines\n",
    "    lines = [nltk.pos_tag(el) for el in lines]\n",
    "    grammar = r'NAME: {<NN.*><NN.*><NN.*><NN.*>*}'\n",
    "    chunkParser = nltk.RegexpParser(grammar)\n",
    "    all_chunked_tokens = []\n",
    "    for tagged_tokens in lines:\n",
    "        if len(tagged_tokens) == 0: continue # Prevent it from printing warnings\n",
    "        chunked_tokens = chunkParser.parse(tagged_tokens)\n",
    "        all_chunked_tokens.append(chunked_tokens)\n",
    "        for subtree in chunked_tokens.subtrees():\n",
    "            if subtree.label() == 'NAME':\n",
    "                for ind, leaf in enumerate(subtree.leaves()):\n",
    "                    if leaf[0].lower() in Names and 'NN' in leaf[1]:\n",
    "                        hit = \" \".join([el[0] for el in subtree.leaves()[ind:ind+3]])\n",
    "                        if re.compile(r'[\\d,:]').search(hit): continue\n",
    "                        nameHits.append(hit)\n",
    "    if len(nameHits) > 0:\n",
    "        nameHits = [re.sub(r'[^a-zA-Z \\-]', '', el).strip() for el in nameHits] \n",
    "        name = \" \".join([el[0].upper()+el[1:].lower() for el in nameHits[0].split() if len(el)>0])\n",
    "        otherNameHits = nameHits[1:]\n",
    "    print(name)\n",
    "    return name, otherNameHits"
   ]
  },
  {
   "cell_type": "code",
   "execution_count": 69,
   "metadata": {},
   "outputs": [],
   "source": [
    "f = convertPDFToText(\"resume_trail1.pdf\")"
   ]
  },
  {
   "cell_type": "code",
   "execution_count": 70,
   "metadata": {},
   "outputs": [
    {
     "name": "stdout",
     "output_type": "stream",
     "text": [
      "Erick B Knezek\n"
     ]
    },
    {
     "data": {
      "text/plain": [
       "('Erick B Knezek',\n",
       " ['Diver',\n",
       "  'Truston Technologies Ocean',\n",
       "  'Truston Technologies Waterfront',\n",
       "  'Truston Technologies Marine',\n",
       "  'Erick B Knezek',\n",
       "  'ITA Industrial'])"
      ]
     },
     "execution_count": 70,
     "metadata": {},
     "output_type": "execute_result"
    }
   ],
   "source": [
    "Name(f)"
   ]
  },
  {
   "cell_type": "code",
   "execution_count": null,
   "metadata": {},
   "outputs": [],
   "source": []
  }
 ],
 "metadata": {
  "kernelspec": {
   "display_name": "Python 3",
   "language": "python",
   "name": "python3"
  },
  "language_info": {
   "codemirror_mode": {
    "name": "ipython",
    "version": 3
   },
   "file_extension": ".py",
   "mimetype": "text/x-python",
   "name": "python",
   "nbconvert_exporter": "python",
   "pygments_lexer": "ipython3",
   "version": "3.6.8"
  }
 },
 "nbformat": 4,
 "nbformat_minor": 2
}
